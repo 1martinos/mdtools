{
 "cells": [
  {
   "cell_type": "markdown",
   "id": "satisfactory-southwest",
   "metadata": {},
   "source": [
    "# CMAP Analysis\n",
    "What I want to check here is what residues are important for an analysis of the role of the activation segment in BRAF.\n",
    "Firstly I want to train the cmap neural network idea on this, just to say we can.\n",
    "One of the assumptions we make right now is that this activation segment is BRAF DFG +-20 residues, I would like some biological relevancy to this assumption.\n",
    "## Current Steps\n",
    "1. Which residues interact with the activation segment? "
   ]
  },
  {
   "cell_type": "code",
   "execution_count": 3,
   "id": "fifty-league",
   "metadata": {},
   "outputs": [],
   "source": [
    "\n",
    "import mdtraj as md\n",
    "import h5py as h5\n",
    "import numpy as np\n",
    "from matplotlib import pyplot as plt\n",
    "from mdtools.cmaps import ContactMap\n",
    "from pprint import pprint as pp\n",
    "hdf = h5.File(\"./cmaps_braf.h5\",\"r\")\n",
    "braf_topology = md.load_topology(\"../trajectories/braf_mono/DFGoutACinV1.pdb\")\n",
    "\n",
    "def find_dfg(top):\n",
    "    # Lets try with just the historic actv segment\n",
    "    # https://www.ncbi.nlm.nih.gov/pmc/articles/PMC4718462/\n",
    "    indices = []\n",
    "    fasta = top.to_fasta()[0]\n",
    "    D_index = fasta.find(\"DFG\")\n",
    "    low = D_index + 3 \n",
    "    hgh = D_index + 26\n",
    "    residues = top._residues[low:hgh]\n",
    "    indices = [[atom.index for atom in res.atoms] for res in residues]\n",
    "    return range(low,hgh)\n",
    "\n",
    "def chunk_list(start,end,chunks=100):\n",
    "    n = 0\n",
    "    i = start\n",
    "    while True:\n",
    "        if i >= end:\n",
    "            break\n",
    "        elif i + chunks > end:\n",
    "            chunks = end - i\n",
    "        chunk = [*range(i,i+chunks)]\n",
    "        yield chunk\n",
    "        i += chunks\n",
    "        \n",
    "def index2resseq(indices,top):\n",
    "    if isinstance(indices,int):\n",
    "        return top._residues[indices].resSeq\n",
    "    else:\n",
    "        return [top._residues[i].resSeq for i in indices]"
   ]
  },
  {
   "cell_type": "code",
   "execution_count": 8,
   "id": "disabled-judgment",
   "metadata": {},
   "outputs": [],
   "source": [
    "# Load the contact maps\n",
    "cmaps = {}\n",
    "for key,group in hdf.items():\n",
    "    if key != \"all_cmaps\":\n",
    "        cmaps[key] = ContactMap(group)"
   ]
  },
  {
   "cell_type": "code",
   "execution_count": 9,
   "id": "optimum-header",
   "metadata": {},
   "outputs": [
    {
     "data": {
      "application/vnd.jupyter.widget-view+json": {
       "model_id": "045e74e79de54a6bb667daf1623ca05c",
       "version_major": 2,
       "version_minor": 0
      },
      "text/plain": [
       "0it [00:00, ?it/s]"
      ]
     },
     "metadata": {},
     "output_type": "display_data"
    },
    {
     "data": {
      "application/vnd.jupyter.widget-view+json": {
       "model_id": "705b7e7a82634e17a6cc82c7cb789e42",
       "version_major": 2,
       "version_minor": 0
      },
      "text/plain": [
       "0it [00:00, ?it/s]"
      ]
     },
     "metadata": {},
     "output_type": "display_data"
    },
    {
     "data": {
      "application/vnd.jupyter.widget-view+json": {
       "model_id": "06359d062ca4488e97e17760eee8721c",
       "version_major": 2,
       "version_minor": 0
      },
      "text/plain": [
       "0it [00:00, ?it/s]"
      ]
     },
     "metadata": {},
     "output_type": "display_data"
    },
    {
     "data": {
      "application/vnd.jupyter.widget-view+json": {
       "model_id": "61210c7eee724195abe9a793ff51d230",
       "version_major": 2,
       "version_minor": 0
      },
      "text/plain": [
       "0it [00:00, ?it/s]"
      ]
     },
     "metadata": {},
     "output_type": "display_data"
    },
    {
     "data": {
      "application/vnd.jupyter.widget-view+json": {
       "model_id": "8314b038ae8940d08db15781b79b5e14",
       "version_major": 2,
       "version_minor": 0
      },
      "text/plain": [
       "0it [00:00, ?it/s]"
      ]
     },
     "metadata": {},
     "output_type": "display_data"
    },
    {
     "data": {
      "application/vnd.jupyter.widget-view+json": {
       "model_id": "d5f0787e677448df929a7af8f05d220d",
       "version_major": 2,
       "version_minor": 0
      },
      "text/plain": [
       "0it [00:00, ?it/s]"
      ]
     },
     "metadata": {},
     "output_type": "display_data"
    },
    {
     "data": {
      "application/vnd.jupyter.widget-view+json": {
       "model_id": "b83dc34f7c9144038214d0ce2598b7ee",
       "version_major": 2,
       "version_minor": 0
      },
      "text/plain": [
       "0it [00:00, ?it/s]"
      ]
     },
     "metadata": {},
     "output_type": "display_data"
    }
   ],
   "source": [
    "# Get the residues in contact with the activation segment!\n",
    "from tqdm.notebook import tqdm\n",
    "contacts = {}\n",
    "external_contacts = set()\n",
    "internal_contacts = set()\n",
    "all_contacts = set()\n",
    "res_idx = find_dfg(braf_topology)\n",
    "for key, dataset in cmaps.items():\n",
    "    cur_contact = set()\n",
    "    n_frames = dataset.n_frames\n",
    "    for indices in tqdm(chunk_list(0,n_frames,chunks=500)):\n",
    "        act_cmap = (dataset[indices][:,res_idx] < 0.8)\n",
    "        act_contacts = np.transpose(act_cmap.nonzero()[1:])\n",
    "        for contact in act_contacts:\n",
    "            contact[0] += res_idx[0]\n",
    "            contact = tuple(sorted(contact))\n",
    "            cur_contact.add(contact)\n",
    "            if (contact[0] in res_idx) and (contact[1] in res_idx):\n",
    "                internal_contacts.add(contact)\n",
    "            elif (contact[0] in res_idx) or (contact[1] in res_idx):\n",
    "                external_contacts.add(contact)\n",
    "            else:\n",
    "                print(\"hmmm\")\n",
    "    contacts[key] = cur_contact\n",
    "    all_contacts = all_contacts.union(cur_contact)"
   ]
  },
  {
   "cell_type": "code",
   "execution_count": 140,
   "id": "southwest-school",
   "metadata": {},
   "outputs": [
    {
     "name": "stdout",
     "output_type": "stream",
     "text": [
      "NUMBER OF CONTACTS: 1588\n",
      "NUMBER OF INTERNAL CONTACTS: 265\n",
      "NUMBER OF EXTERNAL CONTACTS: 1323\n"
     ]
    }
   ],
   "source": [
    "print(\"NUMBER OF CONTACTS:\",len(all_contacts))\n",
    "print(\"NUMBER OF INTERNAL CONTACTS:\",len(internal_contacts))\n",
    "print(\"NUMBER OF EXTERNAL CONTACTS:\",len(external_contacts))"
   ]
  },
  {
   "cell_type": "code",
   "execution_count": 11,
   "id": "brutal-narrow",
   "metadata": {},
   "outputs": [
    {
     "name": "stdout",
     "output_type": "stream",
     "text": [
      "Contacts Outside Loop:  162\n"
     ]
    }
   ],
   "source": [
    "# Parse the external contacts into a dict\n",
    "exts = np.array([*external_contacts])\n",
    "external_dict = {}\n",
    "for (i,j) in exts:\n",
    "    if i in res_idx:\n",
    "        cur = j\n",
    "        other = i\n",
    "    elif j in res_idx:\n",
    "        cur = i\n",
    "        other = j\n",
    "    else:\n",
    "        print(i,j,\"wtf\")\n",
    "    external_dict.setdefault(cur,[])\n",
    "    external_dict[cur].append(other)\n",
    "print(\"Contacts Outside Loop: \", len(external_dict))"
   ]
  },
  {
   "cell_type": "code",
   "execution_count": 18,
   "id": "multiple-enforcement",
   "metadata": {},
   "outputs": [
    {
     "name": "stdout",
     "output_type": "stream",
     "text": [
      "34\n"
     ]
    },
    {
     "data": {
      "application/vnd.jupyter.widget-view+json": {
       "model_id": "37c58762bea7479aa2ce0ea1a74bcb37",
       "version_major": 2,
       "version_minor": 0
      },
      "text/plain": [
       "  0%|          | 0/34 [00:00<?, ?it/s]"
      ]
     },
     "metadata": {},
     "output_type": "display_data"
    }
   ],
   "source": [
    "# Represent all contacts in the BRAF\n",
    "import socket\n",
    "import os\n",
    "import xmlrpc.client as xmlrpclib\n",
    "import pickle\n",
    "import numpy as np\n",
    "from matplotlib import pyplot as plt\n",
    "from pprint import pprint as pp\n",
    "name = \"DFGoutACinV3\"\n",
    "HOST = 'localhost'  # Standard loopback interface address (localhost)\n",
    "PORT = 9123        # Port to listen on (non-privileged ports are > 1023)\n",
    "srv = xmlrpclib.ServerProxy('http://localhost:9123')\n",
    "cmd = f\"dss\"\n",
    "srv.do(cmd)\n",
    "cmd = f\"set float_labels, on\"\n",
    "srv.do(cmd)\n",
    "cmd = f\"scene default, store\"\n",
    "srv.do(cmd)\n",
    "cmd = \"bg_color white\"\n",
    "srv.do(cmd)\n",
    "keys = sorted([k for k in [*external_dict.keys()] if len(external_dict[k]) > 14])\n",
    "print(len(keys))\n",
    "for counter,(outer) in enumerate(tqdm(keys)):\n",
    "    inners = external_dict[outer]\n",
    "    if len(inners) < 15:\n",
    "        continue\n",
    "    outer = index2resseq(int(outer),braf_topology)\n",
    "    sele1 = f\"/{name}//A/{outer}/CA\"\n",
    "    cmd = f\"color blue, {sele1}\"\n",
    "    srv.do(cmd)\n",
    "    cmd = f\"label {sele1}, '%s-%s' % (resn,resi)\"\n",
    "    srv.do(cmd)\n",
    "    cmd = f\"center sele1\"\n",
    "    srv.do(cmd)\n",
    "    for j in inners:\n",
    "        j = index2resseq(int(j),braf_topology)\n",
    "        sele2 = f\"/{name}//A/{j}/CA\"\n",
    "        cmd = f\"distance dist{counter}-{j}, {sele1}, {sele2}\"\n",
    "        srv.do(cmd)\n",
    "        cmd = f\"label {sele2}, '%s-%s' % (resn,resi)\"\n",
    "        srv.do(cmd)\n",
    "        cmd = f\"color red, {sele2}\"\n",
    "        srv.do(cmd)\n",
    "    cmd = f\"scene contacts_to_{outer}, store\"\n",
    "    srv.do(cmd)\n",
    "    cmd = f\"color green, {name}\"\n",
    "    srv.do(cmd)\n",
    "    cmd = f\"hide labels, {sele1}\"\n",
    "    srv.do(cmd)\n",
    "    for j in inners:\n",
    "        j = index2resseq(int(j),braf_topology)\n",
    "        sele2 = f\"/{name}//A/{j}/CA\"\n",
    "        cmd = f\"hide labels, {sele2}\"\n",
    "        srv.do(cmd)\n",
    "        cmd = f\"disable dist{counter}-{j}\"\n",
    "        srv.do(cmd)\n"
   ]
  },
  {
   "cell_type": "code",
   "execution_count": 192,
   "id": "infrared-mention",
   "metadata": {},
   "outputs": [
    {
     "data": {
      "image/png": "[encoded data removed]",
      "text/plain": [
       "<Figure size 1728x864 with 1 Axes>"
      ]
     },
     "metadata": {
      "needs_background": "light"
     },
     "output_type": "display_data"
    }
   ],
   "source": [
    "\"\"\"\n",
    "This is with 8 Angstroms,maybe try smaller!\n",
    "\"\"\"\n",
    "keys = []\n",
    "bars = []\n",
    "for key,value in external_dict.items():\n",
    "        keys.append(f\"{braf_topology._residues[key].name}-{braf_topology._residues[key].resSeq}\")\n",
    "        bars.append(len(value))\n",
    "keys = np.take_along_axis(np.array(keys),np.argsort(bars),0)\n",
    "bars = np.take_along_axis(np.array(bars),np.argsort(bars),0)\n",
    "xs = [i+0.1 for i in range(len(keys))]\n",
    "fig, ax = plt.subplots(1,figsize=(24,12))\n",
    "plt.bar(xs,bars,tick_label=keys)\n",
    "lbls = ax.set_xticklabels(keys,rotation=90,fontsize=8)"
   ]
  },
  {
   "cell_type": "code",
   "execution_count": null,
   "id": "moved-prediction",
   "metadata": {},
   "outputs": [],
   "source": [
    "## np.unique(np.array([*external_contacts]))\n",
    "# exts = np.array([*external_contacts])\n",
    "# for cont in exts:\n",
    "#     print(find_residues(cont,braf_topology))"
   ]
  },
  {
   "cell_type": "code",
   "execution_count": 190,
   "id": "accessible-young",
   "metadata": {},
   "outputs": [
    {
     "data": {
      "text/plain": [
       "array([ 34, 207, 238,  90,  35,  73, 212,  98,  89,  42,  43, 265, 200,\n",
       "       102, 210, 213, 257, 105, 121,  92,  82,  87,   4,  41,  91, 146,\n",
       "       127,  77, 152, 106,   9, 145,  93,  22, 263, 234,  33, 203, 260,\n",
       "       262,  75,  50,  80, 204, 125, 236, 153,  49, 258, 197,  67,  69,\n",
       "       233, 208, 237, 201, 129,  94, 143,  96, 130, 214, 219, 206, 209,\n",
       "       154,  88, 202, 131, 229, 144, 235,  51,  95, 205, 232, 128, 216,\n",
       "        66,  85,  32, 218,  64,  24, 217,  48, 132,  86, 133,  45,  97,\n",
       "        47, 103, 100,  68, 231,  63, 230, 220,  31,  44, 215,  52, 225,\n",
       "        23,  56,  65, 228, 183, 155,  25,  53, 104, 198, 221, 222, 182,\n",
       "       156, 199, 184,  30, 196, 226,  46, 195,  59,  62, 189, 142, 190,\n",
       "       187, 224,  99,  27, 227, 191,  58, 157,  55,  60, 186,  57,  61,\n",
       "       223, 141,  26, 134,  29,  28, 138, 185, 135,  54, 193, 192, 136,\n",
       "       188, 194, 139, 181, 140, 137])"
      ]
     },
     "execution_count": 190,
     "metadata": {},
     "output_type": "execute_result"
    }
   ],
   "source": [
    "np.take_along_axis(np.array(keys),np.argsort(bars),0)"
   ]
  },
  {
   "cell_type": "code",
   "execution_count": 86,
   "id": "major-maintenance",
   "metadata": {},
   "outputs": [
    {
     "name": "stdout",
     "output_type": "stream",
     "text": [
      "154\n"
     ]
    }
   ],
   "source": [
    "newic = set()\n",
    "for ic in internal_contacts:\n",
    "    if abs(ic[0] - ic[1]) <= 3:\n",
    "        newic.add(ic)\n",
    "print(len(newic))"
   ]
  },
  {
   "cell_type": "code",
   "execution_count": 142,
   "id": "imported-resistance",
   "metadata": {},
   "outputs": [
    {
     "data": {
      "text/plain": [
       "<matplotlib.image.AxesImage at 0x7f2c2c624eb8>"
      ]
     },
     "execution_count": 142,
     "metadata": {},
     "output_type": "execute_result"
    },
    {
     "data": {
      "image/png": "[encoded data removed]",
      "text/plain": [
       "<Figure size 864x864 with 1 Axes>"
      ]
     },
     "metadata": {
      "needs_background": "light"
     },
     "output_type": "display_data"
    }
   ],
   "source": [
    "example_matrix = np.zeros((cmap[0][0].shape))\n",
    "plt.figure(figsize=(12,12))\n",
    "for (i,j) in external_contacts:\n",
    "    example_matrix[i,j] = 1\n",
    "#     example_matrix[j,i] = 1\n",
    "plt.imshow(example_matrix)"
   ]
  },
  {
   "cell_type": "code",
   "execution_count": 118,
   "id": "pacific-biology",
   "metadata": {},
   "outputs": [
    {
     "data": {
      "text/plain": [
       "(40, 287)"
      ]
     },
     "execution_count": 118,
     "metadata": {},
     "output_type": "execute_result"
    },
    {
     "data": {
      "image/png": "[encoded data removed]",
      "text/plain": [
       "<Figure size 432x288 with 1 Axes>"
      ]
     },
     "metadata": {
      "needs_background": "light"
     },
     "output_type": "display_data"
    }
   ],
   "source": [
    "# all_contacts\n",
    "plt.imshow(act_cmap[0])\n",
    "act_cmap[0].shape\n",
    "# np.transpose((cmap[0] < .8).nonzero())"
   ]
  },
  {
   "cell_type": "code",
   "execution_count": 5,
   "id": "excessive-workstation",
   "metadata": {},
   "outputs": [
    {
     "data": {
      "text/plain": [
       "(0.0, 5.69581413269043)"
      ]
     },
     "execution_count": 5,
     "metadata": {},
     "output_type": "execute_result"
    }
   ],
   "source": [
    "Xcmap = cmap[0]\n",
    "np.min(Xcmap), np.max(Xcmap)"
   ]
  },
  {
   "cell_type": "code",
   "execution_count": 28,
   "id": "scenic-dominican",
   "metadata": {},
   "outputs": [
    {
     "data": {
      "text/plain": [
       "<matplotlib.image.AxesImage at 0x7f2c4cbc2748>"
      ]
     },
     "execution_count": 28,
     "metadata": {},
     "output_type": "execute_result"
    },
    {
     "data": {
      "image/png": "[encoded data removed]",
      "text/plain": [
       "<Figure size 432x288 with 1 Axes>"
      ]
     },
     "metadata": {
      "needs_background": "light"
     },
     "output_type": "display_data"
    }
   ],
   "source": [
    "cmap = cmaps[key]\n",
    "plt.imshow(Xcmap[0] < .8)"
   ]
  },
  {
   "cell_type": "code",
   "execution_count": null,
   "id": "adult-supply",
   "metadata": {},
   "outputs": [],
   "source": [
    "res_idx = find_dfg(braf_topology)\n",
    "Xcmap[135:175,135:175].shape"
   ]
  },
  {
   "cell_type": "code",
   "execution_count": null,
   "id": "fluid-pursuit",
   "metadata": {},
   "outputs": [],
   "source": [
    "plt.figure(figsize=(12,12))\n",
    "plt.imshow(Xcmap[res_idx] < .8)\n",
    "plt.colorbar()\n",
    "Xcmap[res_idx].shape"
   ]
  },
  {
   "cell_type": "code",
   "execution_count": 7,
   "id": "opposed-robertson",
   "metadata": {},
   "outputs": [
    {
     "ename": "NameError",
     "evalue": "name 'res_idx' is not defined",
     "output_type": "error",
     "traceback": [
      "\u001b[0;31m---------------------------------------------------------------------------\u001b[0m",
      "\u001b[0;31mNameError\u001b[0m                                 Traceback (most recent call last)",
      "\u001b[0;32m<ipython-input-7-ca16f331df87>\u001b[0m in \u001b[0;36m<module>\u001b[0;34m\u001b[0m\n\u001b[0;32m----> 1\u001b[0;31m \u001b[0mres_idx\u001b[0m\u001b[0;34m\u001b[0m\u001b[0;34m\u001b[0m\u001b[0m\n\u001b[0m",
      "\u001b[0;31mNameError\u001b[0m: name 'res_idx' is not defined"
     ]
    }
   ],
   "source": [
    "res_idx"
   ]
  },
  {
   "cell_type": "code",
   "execution_count": 8,
   "id": "weekly-symphony",
   "metadata": {},
   "outputs": [
    {
     "data": {
      "text/plain": [
       "(2, 287, 287)"
      ]
     },
     "execution_count": 8,
     "metadata": {},
     "output_type": "execute_result"
    }
   ],
   "source": [
    "cmap[[*range(2)]].shape"
   ]
  },
  {
   "cell_type": "code",
   "execution_count": 9,
   "id": "moderate-vulnerability",
   "metadata": {},
   "outputs": [
    {
     "ename": "NameError",
     "evalue": "name 'self' is not defined",
     "output_type": "error",
     "traceback": [
      "\u001b[0;31m---------------------------------------------------------------------------\u001b[0m",
      "\u001b[0;31mNameError\u001b[0m                                 Traceback (most recent call last)",
      "\u001b[0;32m<ipython-input-9-1a409c2131fc>\u001b[0m in \u001b[0;36m<module>\u001b[0;34m\u001b[0m\n\u001b[0;32m----> 1\u001b[0;31m \u001b[0mtest\u001b[0m \u001b[0;34m=\u001b[0m \u001b[0mnp\u001b[0m\u001b[0;34m.\u001b[0m\u001b[0mzeros\u001b[0m\u001b[0;34m(\u001b[0m\u001b[0mself\u001b[0m\u001b[0;34m.\u001b[0m\u001b[0mshape\u001b[0m\u001b[0;34m[\u001b[0m\u001b[0;36m1\u001b[0m\u001b[0;34m:\u001b[0m\u001b[0;34m]\u001b[0m\u001b[0;34m)\u001b[0m\u001b[0;34m\u001b[0m\u001b[0;34m\u001b[0m\u001b[0m\n\u001b[0m\u001b[1;32m      2\u001b[0m \u001b[0mcmap\u001b[0m\u001b[0;34m.\u001b[0m\u001b[0mindices\u001b[0m\u001b[0;34m\u001b[0m\u001b[0;34m\u001b[0m\u001b[0m\n",
      "\u001b[0;31mNameError\u001b[0m: name 'self' is not defined"
     ]
    }
   ],
   "source": [
    "cmap.indices"
   ]
  },
  {
   "cell_type": "code",
   "execution_count": null,
   "id": "labeled-commons",
   "metadata": {},
   "outputs": [],
   "source": [
    "order = np.unravel_index(np.argsort(Xcmap,axis=None), Xcmap.shape)\n",
    "Xcmap[order[0][-1],order[1][-1]]\n",
    "res_idx"
   ]
  },
  {
   "cell_type": "code",
   "execution_count": 12,
   "id": "confirmed-financing",
   "metadata": {},
   "outputs": [
    {
     "data": {
      "text/plain": [
       "(200, 287, 287)"
      ]
     },
     "execution_count": 12,
     "metadata": {},
     "output_type": "execute_result"
    }
   ],
   "source": [
    "cmap[[*range(200)]].shape"
   ]
  },
  {
   "cell_type": "code",
   "execution_count": 10,
   "id": "valid-orbit",
   "metadata": {},
   "outputs": [
    {
     "data": {
      "text/plain": [
       "(3, 41041)"
      ]
     },
     "execution_count": 10,
     "metadata": {},
     "output_type": "execute_result"
    }
   ],
   "source": [
    "cmap.dataset[[1,2,3]].shape"
   ]
  },
  {
   "cell_type": "code",
   "execution_count": 24,
   "id": "future-stack",
   "metadata": {},
   "outputs": [],
   "source": [
    "a = cmap[[*range(500)]]"
   ]
  },
  {
   "cell_type": "code",
   "execution_count": 25,
   "id": "faced-trailer",
   "metadata": {},
   "outputs": [
    {
     "data": {
      "text/plain": [
       "(500, 287, 287)"
      ]
     },
     "execution_count": 25,
     "metadata": {},
     "output_type": "execute_result"
    }
   ],
   "source": [
    "a.shape"
   ]
  },
  {
   "cell_type": "code",
   "execution_count": 39,
   "id": "lesser-tobacco",
   "metadata": {},
   "outputs": [
    {
     "data": {
      "text/plain": [
       "[5, 6]"
      ]
     },
     "execution_count": 39,
     "metadata": {},
     "output_type": "execute_result"
    }
   ],
   "source": [
    "sorted((6,5))"
   ]
  },
  {
   "cell_type": "code",
   "execution_count": 43,
   "id": "crucial-trust",
   "metadata": {},
   "outputs": [
    {
     "data": {
      "text/plain": [
       "{0, 1, 2, 4, 5}"
      ]
     },
     "execution_count": 43,
     "metadata": {},
     "output_type": "execute_result"
    }
   ],
   "source": [
    "a = set((1,2,4,5))\n",
    "b = set((0,2,4,5))\n",
    "a.union(b)"
   ]
  },
  {
   "cell_type": "code",
   "execution_count": 198,
   "id": "sublime-service",
   "metadata": {},
   "outputs": [
    {
     "name": "stderr",
     "output_type": "stream",
     "text": [
      "/home/sam/.pyenv/versions/3.6.9/envs/md-work-3.6.9/lib/python3.6/site-packages/ipykernel_launcher.py:1: UserWarning: Attempting to set identical bottom == top == -0.5 results in singular transformations; automatically expanding.\n",
      "  \"\"\"Entry point for launching an IPython kernel.\n"
     ]
    },
    {
     "data": {
      "text/plain": [
       "<matplotlib.image.AxesImage at 0x7f2c485956a0>"
      ]
     },
     "execution_count": 198,
     "metadata": {},
     "output_type": "execute_result"
    },
    {
     "data": {
      "image/png": "[encoded data removed]",
      "text/plain": [
       "<Figure size 432x288 with 1 Axes>"
      ]
     },
     "metadata": {
      "needs_background": "light"
     },
     "output_type": "display_data"
    }
   ],
   "source": [
    "plt.imshow(cmap[0][0][5:10][5:10])"
   ]
  },
  {
   "cell_type": "code",
   "execution_count": 201,
   "id": "responsible-champion",
   "metadata": {},
   "outputs": [
    {
     "data": {
      "text/plain": [
       "(5, 5)"
      ]
     },
     "execution_count": 201,
     "metadata": {},
     "output_type": "execute_result"
    }
   ],
   "source": [
    "cmap[0][0][5:10,5:10].shape"
   ]
  },
  {
   "cell_type": "code",
   "execution_count": 211,
   "id": "temporal-beach",
   "metadata": {},
   "outputs": [
    {
     "name": "stdout",
     "output_type": "stream",
     "text": [
      "1333 1067 133 133 1333\n"
     ]
    }
   ],
   "source": [
    "def ttv_split_indices(length,training=0.8,\n",
    "                        test=0.1,\n",
    "                        validation=0.1):\n",
    "    \"\"\"\n",
    "    Given the length of a 1D data array, it converts to\n",
    "    the indices required for a training, test, validation split.\n",
    "    Returns as 3 lists because this makes sense for now\n",
    "    \"\"\"\n",
    "    if training + test + validation != 1:\n",
    "        print(\"Total split must add up to 1\")\n",
    "        raise ValueError\n",
    "    indices = [*range(length)]\n",
    "\n",
    "    training = int(training*length)\n",
    "    test = int(test*length)\n",
    "    validation = int(validation*length)\n",
    "    total = training+test+validation\n",
    "    if total != length:\n",
    "        training += length - total\n",
    "    training = np.choices()\n",
    "    \n",
    "ttv_split_indices(1333)"
   ]
  },
  {
   "cell_type": "code",
   "execution_count": 215,
   "id": "innocent-final",
   "metadata": {},
   "outputs": [
    {
     "ename": "AttributeError",
     "evalue": "module 'numpy.random' has no attribute 'Generator'",
     "output_type": "error",
     "traceback": [
      "\u001b[0;31m---------------------------------------------------------------------------\u001b[0m",
      "\u001b[0;31mAttributeError\u001b[0m                            Traceback (most recent call last)",
      "\u001b[0;32m<ipython-input-215-76fbe9b43d70>\u001b[0m in \u001b[0;36m<module>\u001b[0;34m\u001b[0m\n\u001b[1;32m      1\u001b[0m \u001b[0mlength\u001b[0m \u001b[0;34m=\u001b[0m \u001b[0;36m1500\u001b[0m\u001b[0;34m\u001b[0m\u001b[0;34m\u001b[0m\u001b[0m\n\u001b[1;32m      2\u001b[0m \u001b[0mindices\u001b[0m \u001b[0;34m=\u001b[0m \u001b[0;34m[\u001b[0m\u001b[0;34m*\u001b[0m\u001b[0mrange\u001b[0m\u001b[0;34m(\u001b[0m\u001b[0mlength\u001b[0m\u001b[0;34m)\u001b[0m\u001b[0;34m]\u001b[0m\u001b[0;34m\u001b[0m\u001b[0;34m\u001b[0m\u001b[0m\n\u001b[0;32m----> 3\u001b[0;31m \u001b[0mnp\u001b[0m\u001b[0;34m.\u001b[0m\u001b[0mrandom\u001b[0m\u001b[0;34m.\u001b[0m\u001b[0mGenerator\u001b[0m\u001b[0;34m.\u001b[0m\u001b[0mchoice\u001b[0m\u001b[0;34m(\u001b[0m\u001b[0mindices\u001b[0m\u001b[0;34m,\u001b[0m\u001b[0msize\u001b[0m\u001b[0;34m=\u001b[0m\u001b[0;34m(\u001b[0m\u001b[0;36m1500\u001b[0m\u001b[0;34m)\u001b[0m\u001b[0;34m,\u001b[0m\u001b[0mreplace\u001b[0m\u001b[0;34m=\u001b[0m\u001b[0;32mFalse\u001b[0m\u001b[0;34m)\u001b[0m\u001b[0;34m\u001b[0m\u001b[0;34m\u001b[0m\u001b[0m\n\u001b[0m",
      "\u001b[0;31mAttributeError\u001b[0m: module 'numpy.random' has no attribute 'Generator'"
     ]
    }
   ],
   "source": [
    "length = 1500\n",
    "indices = [*range(length)]\n",
    "np.random.Generator.choice(indices,size=(1000),replace=False)\n",
    "indices = [i]\n"
   ]
  },
  {
   "cell_type": "code",
   "execution_count": 218,
   "id": "signal-panama",
   "metadata": {},
   "outputs": [
    {
     "ename": "ImportError",
     "evalue": "cannot import name 'Generator'",
     "output_type": "error",
     "traceback": [
      "\u001b[0;31m---------------------------------------------------------------------------\u001b[0m",
      "\u001b[0;31mImportError\u001b[0m                               Traceback (most recent call last)",
      "\u001b[0;32m<ipython-input-218-6442ed75de72>\u001b[0m in \u001b[0;36m<module>\u001b[0;34m\u001b[0m\n\u001b[0;32m----> 1\u001b[0;31m \u001b[0;32mfrom\u001b[0m \u001b[0mnumpy\u001b[0m\u001b[0;34m.\u001b[0m\u001b[0mrandom\u001b[0m \u001b[0;32mimport\u001b[0m \u001b[0mGenerator\u001b[0m\u001b[0;34m\u001b[0m\u001b[0;34m\u001b[0m\u001b[0m\n\u001b[0m",
      "\u001b[0;31mImportError\u001b[0m: cannot import name 'Generator'"
     ]
    }
   ],
   "source": [
    "from numpy.random import Generator"
   ]
  },
  {
   "cell_type": "code",
   "execution_count": 223,
   "id": "smooth-trademark",
   "metadata": {},
   "outputs": [
    {
     "name": "stdout",
     "output_type": "stream",
     "text": [
      "[1, 2, 3, 4, 5, 6, 7]\n"
     ]
    },
    {
     "data": {
      "text/plain": [
       "[1, 2, 4, 7]"
      ]
     },
     "execution_count": 223,
     "metadata": {},
     "output_type": "execute_result"
    }
   ],
   "source": [
    "idx = [1,2,3,4,5,6,7]\n",
    "print(idx)\n",
    "c = np.random.choice(idx,3)\n",
    "[idx.remove(i) for i in c]\n",
    "idx"
   ]
  },
  {
   "cell_type": "code",
   "execution_count": 221,
   "id": "agreed-water",
   "metadata": {},
   "outputs": [
    {
     "data": {
      "text/plain": [
       "['__add__',\n",
       " '__class__',\n",
       " '__contains__',\n",
       " '__delattr__',\n",
       " '__delitem__',\n",
       " '__dir__',\n",
       " '__doc__',\n",
       " '__eq__',\n",
       " '__format__',\n",
       " '__ge__',\n",
       " '__getattribute__',\n",
       " '__getitem__',\n",
       " '__gt__',\n",
       " '__hash__',\n",
       " '__iadd__',\n",
       " '__imul__',\n",
       " '__init__',\n",
       " '__init_subclass__',\n",
       " '__iter__',\n",
       " '__le__',\n",
       " '__len__',\n",
       " '__lt__',\n",
       " '__mul__',\n",
       " '__ne__',\n",
       " '__new__',\n",
       " '__reduce__',\n",
       " '__reduce_ex__',\n",
       " '__repr__',\n",
       " '__reversed__',\n",
       " '__rmul__',\n",
       " '__setattr__',\n",
       " '__setitem__',\n",
       " '__sizeof__',\n",
       " '__str__',\n",
       " '__subclasshook__',\n",
       " 'append',\n",
       " 'clear',\n",
       " 'copy',\n",
       " 'count',\n",
       " 'extend',\n",
       " 'index',\n",
       " 'insert',\n",
       " 'pop',\n",
       " 'remove',\n",
       " 'reverse',\n",
       " 'sort']"
      ]
     },
     "execution_count": 221,
     "metadata": {},
     "output_type": "execute_result"
    }
   ],
   "source": [
    "a = []\n",
    "dir(a)"
   ]
  },
  {
   "cell_type": "code",
   "execution_count": null,
   "id": "involved-story",
   "metadata": {},
   "outputs": [],
   "source": []
  }
 ],
 "metadata": {
  "kernelspec": {
   "display_name": "Python 3",
   "language": "python",
   "name": "python3"
  },
  "language_info": {
   "codemirror_mode": {
    "name": "ipython",
    "version": 3
   },
   "file_extension": ".py",
   "mimetype": "text/x-python",
   "name": "python",
   "nbconvert_exporter": "python",
   "pygments_lexer": "ipython3",
   "version": "3.6.9"
  }
 },
 "nbformat": 4,
 "nbformat_minor": 5
}
